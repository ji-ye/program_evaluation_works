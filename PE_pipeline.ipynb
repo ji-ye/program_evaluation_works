{
 "cells": [
  {
   "cell_type": "code",
   "execution_count": null,
   "metadata": {
    "collapsed": true
   },
   "outputs": [],
   "source": [
    "'''\n",
    "Organizing code for Program Evaluation homework.\n",
    "'''"
   ]
  },
  {
   "cell_type": "code",
   "execution_count": 1,
   "metadata": {
    "collapsed": true
   },
   "outputs": [],
   "source": [
    "import pandas as pd\n",
    "import numpy as np\n",
    "from math import sqrt\n",
    "from tabulate import tabulate\n",
    "import statsmodels.api as sm\n",
    "from patsy import dmatrices\n",
    "import matplotlib.pyplot as plt\n",
    "import pprint\n",
    "\n",
    "%matplotlib inline\n",
    "pp = pprint.PrettyPrinter(indent=2)"
   ]
  },
  {
   "cell_type": "markdown",
   "metadata": {},
   "source": [
    "## Read & write data"
   ]
  },
  {
   "cell_type": "code",
   "execution_count": 16,
   "metadata": {
    "collapsed": false
   },
   "outputs": [],
   "source": [
    "def read_data(filename):\n",
    "    '''\n",
    "    Reads csv, dta, excel file. Returns a DataFrame.\n",
    "    '''\n",
    "    assert filename[-3:] in ['csv', 'dta', 'xlsx'], \"can only read filename with .csv, .dta, .xlsx extensions\"\n",
    "    if filename[-3:] == 'csv':\n",
    "        df = pd.read_csv(filename)\n",
    "    elif filename[-3:] == 'dta':\n",
    "        df = pd.read_stata(filename)\n",
    "    elif filename[-4:]=='xlsx':\n",
    "        df = pd.read_excel(filename)\n",
    "    return df\n",
    "\n",
    "\n",
    "def write_data(df, filename):\n",
    "    '''\n",
    "    Write DataFrame to file.\n",
    "    '''\n",
    "    assert filename[-3:] in ['csv', 'dta', 'xlsx'], \"can only write to .csv, .dta\"\n",
    "    if filename[-3:] == 'csv':\n",
    "        df.to_csv(filename)\n",
    "    elif filename[-3:] == 'dta':\n",
    "        df.to_stata(filename)"
   ]
  },
  {
   "cell_type": "markdown",
   "metadata": {},
   "source": [
    "## Create dummy variables."
   ]
  },
  {
   "cell_type": "code",
   "execution_count": 17,
   "metadata": {
    "collapsed": false
   },
   "outputs": [
    {
     "ename": "AssertionError",
     "evalue": "can only read filename with .csv, .dta, .xlsx extensions",
     "output_type": "error",
     "traceback": [
      "\u001b[0;31m---------------------------------------------------------------------------\u001b[0m",
      "\u001b[0;31mAssertionError\u001b[0m                            Traceback (most recent call last)",
      "\u001b[0;32m<ipython-input-17-af822fd0778d>\u001b[0m in \u001b[0;36m<module>\u001b[0;34m()\u001b[0m\n\u001b[0;32m----> 1\u001b[0;31m \u001b[0mread_data\u001b[0m\u001b[0;34m(\u001b[0m\u001b[0;34m\"adsfadsfas\"\u001b[0m\u001b[0;34m)\u001b[0m\u001b[0;34m\u001b[0m\u001b[0m\n\u001b[0m",
      "\u001b[0;32m<ipython-input-16-17e09e30b8b4>\u001b[0m in \u001b[0;36mread_data\u001b[0;34m(filename)\u001b[0m\n\u001b[1;32m      3\u001b[0m     \u001b[0mReads\u001b[0m \u001b[0mcsv\u001b[0m\u001b[0;34m,\u001b[0m \u001b[0mdta\u001b[0m\u001b[0;34m,\u001b[0m \u001b[0mexcel\u001b[0m \u001b[0mfile\u001b[0m\u001b[0;34m.\u001b[0m \u001b[0mReturns\u001b[0m \u001b[0ma\u001b[0m \u001b[0mDataFrame\u001b[0m\u001b[0;34m.\u001b[0m\u001b[0;34m\u001b[0m\u001b[0m\n\u001b[1;32m      4\u001b[0m     '''\n\u001b[0;32m----> 5\u001b[0;31m     \u001b[0;32massert\u001b[0m \u001b[0mfilename\u001b[0m\u001b[0;34m[\u001b[0m\u001b[0;34m-\u001b[0m\u001b[0;36m3\u001b[0m\u001b[0;34m:\u001b[0m\u001b[0;34m]\u001b[0m \u001b[0;32min\u001b[0m \u001b[0;34m[\u001b[0m\u001b[0;34m'csv'\u001b[0m\u001b[0;34m,\u001b[0m \u001b[0;34m'dta'\u001b[0m\u001b[0;34m,\u001b[0m \u001b[0;34m'xlsx'\u001b[0m\u001b[0;34m]\u001b[0m\u001b[0;34m,\u001b[0m \u001b[0;34m\"can only read filename with .csv, .dta, .xlsx extensions\"\u001b[0m\u001b[0;34m\u001b[0m\u001b[0m\n\u001b[0m\u001b[1;32m      6\u001b[0m     \u001b[0;32mif\u001b[0m \u001b[0mfilename\u001b[0m\u001b[0;34m[\u001b[0m\u001b[0;34m-\u001b[0m\u001b[0;36m3\u001b[0m\u001b[0;34m:\u001b[0m\u001b[0;34m]\u001b[0m \u001b[0;34m==\u001b[0m \u001b[0;34m'csv'\u001b[0m\u001b[0;34m:\u001b[0m\u001b[0;34m\u001b[0m\u001b[0m\n\u001b[1;32m      7\u001b[0m         \u001b[0mdf\u001b[0m \u001b[0;34m=\u001b[0m \u001b[0mpd\u001b[0m\u001b[0;34m.\u001b[0m\u001b[0mread_csv\u001b[0m\u001b[0;34m(\u001b[0m\u001b[0mfilename\u001b[0m\u001b[0;34m)\u001b[0m\u001b[0;34m\u001b[0m\u001b[0m\n",
      "\u001b[0;31mAssertionError\u001b[0m: can only read filename with .csv, .dta, .xlsx extensions"
     ]
    }
   ],
   "source": [
    "'''\n",
    "Create binary dummy variables from categoricals. using rdtyper as example.\n",
    "'''\n",
    "rdtyper_dummy = pd.get_dummies(neg5_pos3.rdtyper)\n",
    "neg5_pos3 = pd.concat([neg5_pos3, rdtyper_dummy], axis=1)\n",
    "'''\n",
    "Create binary dummy from continuous variable, using a threshold.\n",
    "'''\n",
    "neg5_pos3['after'] = neg5_pos3.delta_time >= 0\n",
    "neg5_pos3['after'] = neg5_pos3.after.astype(int)\n",
    "'''\n",
    "Create interaction dummies.\n",
    "'''\n",
    "neg5_pos3[\"I_after\"] = neg5_pos3.after * neg5_pos3.I\n",
    "neg5_pos3[\"A_after\"] = neg5_pos3.after * neg5_pos3.A\n",
    "neg5_pos3[\"N_after\"] = neg5_pos3.after * neg5_pos3.N"
   ]
  },
  {
   "cell_type": "code",
   "execution_count": null,
   "metadata": {
    "collapsed": true
   },
   "outputs": [],
   "source": [
    "def calc_se(std1, std2, n1, n2):\n",
    "    '''\n",
    "    Calculate standard error using two std. and sample size.\n",
    "    \n",
    "    Input:\n",
    "        std1: (float)\n",
    "        std2: (float)\n",
    "        n1: (int)\n",
    "        n2: (int)\n",
    "    '''\n",
    "    inner = (std1**2 / n1) + (std2**2 / n2)\n",
    "    sem = sqrt(inner)\n",
    "    return sem"
   ]
  },
  {
   "cell_type": "code",
   "execution_count": null,
   "metadata": {
    "collapsed": true
   },
   "outputs": [],
   "source": [
    "'''\n",
    "run regression\n",
    "'''\n",
    "y, X = dmatrices('vcrm ~ A + after + A_after', data=neg5_pos3, return_type='dataframe')\n",
    "mod = sm.OLS(y, X)\n",
    "res = mod.fit()\n",
    "res.summary()\n",
    "'''\n",
    "run regresssion with clustered standard error.\n",
    "'''\n",
    "# (-5, +3) Target area baseline\n",
    "y, X = dmatrices('vcrm ~ I + after + I_after', data=neg5_pos3, return_type='dataframe')\n",
    "mod = sm.OLS(y, X)\n",
    "cluster_prd_ols = mod.fit(cov_type='cluster', cov_kwds={'groups': neg5_pos3['prd']}, use_t=True)\n",
    "cluster_prd_ols.summary()"
   ]
  }
 ],
 "metadata": {
  "anaconda-cloud": {},
  "kernelspec": {
   "display_name": "Python [conda root]",
   "language": "python",
   "name": "conda-root-py"
  },
  "language_info": {
   "codemirror_mode": {
    "name": "ipython",
    "version": 3
   },
   "file_extension": ".py",
   "mimetype": "text/x-python",
   "name": "python",
   "nbconvert_exporter": "python",
   "pygments_lexer": "ipython3",
   "version": "3.5.2"
  }
 },
 "nbformat": 4,
 "nbformat_minor": 2
}
